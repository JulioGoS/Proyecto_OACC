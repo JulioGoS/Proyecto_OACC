{
  "nbformat": 4,
  "nbformat_minor": 0,
  "metadata": {
    "colab": {
      "name": "02Numpy.ipynb",
      "provenance": [],
      "authorship_tag": "ABX9TyPFD60dBABpSH4hBkW+QLSv",
      "include_colab_link": true
    },
    "kernelspec": {
      "name": "python3",
      "display_name": "Python 3"
    },
    "language_info": {
      "name": "python"
    }
  },
  "cells": [
    {
      "cell_type": "markdown",
      "metadata": {
        "id": "view-in-github",
        "colab_type": "text"
      },
      "source": [
        "<a href=\"https://colab.research.google.com/github/JulioGoS/Proyecto_OACC/blob/master/02Numpy.ipynb\" target=\"_parent\"><img src=\"https://colab.research.google.com/assets/colab-badge.svg\" alt=\"Open In Colab\"/></a>"
      ]
    },
    {
      "cell_type": "markdown",
      "source": [
        "# Conceptos basicos de *Numpy*.\n",
        "[*Numpy*](http://www.numpy.org/) es un paquete que contiene una biblioteca de recursos especializados en realizar operaciones optimizadas en arreglos de datos.\n",
        "\n",
        "El proyecto *Numpy* cuenta con una extensa documentación, la cual está disponible en https://docs.scipy.org/doc/numpy/.\n"
      ],
      "metadata": {
        "id": "xfVMOPD62QXo"
      }
    },
    {
      "cell_type": "code",
      "source": [
        "#Instalacion del paquete\n",
        "##!pip install numpy"
      ],
      "metadata": {
        "id": "bQ1EhHQQ2sf4"
      },
      "execution_count": null,
      "outputs": []
    },
    {
      "cell_type": "code",
      "source": [
        "#Importar el paquete numpy\n",
        "import numpy as np"
      ],
      "metadata": {
        "id": "pILU6yAR3VjZ"
      },
      "execution_count": null,
      "outputs": []
    },
    {
      "cell_type": "code",
      "source": [
        "arreglo = np.array((1,2,3))\n",
        "arreglo"
      ],
      "metadata": {
        "colab": {
          "base_uri": "https://localhost:8080/"
        },
        "id": "c8OQKu8o3t_g",
        "outputId": "2248c302-5c73-4166-afd4-576c650a87ad"
      },
      "execution_count": null,
      "outputs": [
        {
          "output_type": "execute_result",
          "data": {
            "text/plain": [
              "array([1, 2, 3])"
            ]
          },
          "metadata": {},
          "execution_count": 17
        }
      ]
    },
    {
      "cell_type": "code",
      "source": [
        "type(arreglo)"
      ],
      "metadata": {
        "id": "NCg8OcA831ZY",
        "outputId": "e0c5675e-69f4-4e05-e6d0-921f47878625",
        "colab": {
          "base_uri": "https://localhost:8080/"
        }
      },
      "execution_count": null,
      "outputs": [
        {
          "output_type": "execute_result",
          "data": {
            "text/plain": [
              "numpy.ndarray"
            ]
          },
          "metadata": {},
          "execution_count": 18
        }
      ]
    },
    {
      "cell_type": "code",
      "source": [
        "for i in arreglo:\n",
        "  print('valor: {}, tipo {}'.format(i, type(i)))"
      ],
      "metadata": {
        "colab": {
          "base_uri": "https://localhost:8080/"
        },
        "id": "jrPzWDxuqph4",
        "outputId": "552f2de3-487f-4cac-c11b-bae8ce1ce03f"
      },
      "execution_count": null,
      "outputs": [
        {
          "output_type": "stream",
          "name": "stdout",
          "text": [
            "valor: 1, tipo <class 'numpy.int64'>\n",
            "valor: 2, tipo <class 'numpy.int64'>\n",
            "valor: 3, tipo <class 'numpy.int64'>\n"
          ]
        }
      ]
    },
    {
      "cell_type": "code",
      "source": [
        "arreglo = np.array((1,2,3.5))\n",
        "print(arreglo)\n",
        "print(type(arreglo))\n",
        "for i in arreglo:\n",
        "  print (arreglo)"
      ],
      "metadata": {
        "id": "y_GIu_NNrR5S",
        "colab": {
          "base_uri": "https://localhost:8080/"
        },
        "outputId": "df2c04c8-7ba0-4548-ba7e-422ceb004f43"
      },
      "execution_count": null,
      "outputs": [
        {
          "output_type": "stream",
          "name": "stdout",
          "text": [
            "[1.  2.  3.5]\n",
            "<class 'numpy.ndarray'>\n",
            "[1.  2.  3.5]\n",
            "[1.  2.  3.5]\n",
            "[1.  2.  3.5]\n"
          ]
        }
      ]
    },
    {
      "cell_type": "code",
      "source": [
        "arreglo = np.array(['d',3,(12,6,True)],dtype=object)\n",
        "for i in arreglo:\n",
        "  print('valor: {}, tipo: {}'.format(i,type(i)))"
      ],
      "metadata": {
        "colab": {
          "base_uri": "https://localhost:8080/"
        },
        "id": "_Pv35A2rrnJT",
        "outputId": "405d3627-4dc6-4d5d-d406-d827717c5623"
      },
      "execution_count": null,
      "outputs": [
        {
          "output_type": "stream",
          "name": "stdout",
          "text": [
            "valor: d, tipo: <class 'str'>\n",
            "valor: 3, tipo: <class 'int'>\n",
            "valor: (12, 6, True), tipo: <class 'tuple'>\n"
          ]
        }
      ]
    },
    {
      "cell_type": "markdown",
      "source": [
        "### El atributo ```shape```.\n",
        "\n",
        "Los arreglos cuentan con el atributo ```shape```, el cual describe el número de elementos que contiene cada dimensión del arreglo.\n",
        "\n",
        "El valor de ```shape``` es un objeto tipo tuple que contiene una sucesión de números.\n",
        "\n",
        "```\n",
        "(<n1>, <n2>, <n3> ... <nm>)\n",
        "```\n",
        "\n",
        "* Donde ```<n1>``` corresponde al número de elementos en la primera dimensión,  ```<n2>``` corresponde al número de elementos en la segunda dimensión y así sucesivamente hasta ```<nm>``` , la cual corrersponde al número de elementos de la dimensión ```m```.\n"
      ],
      "metadata": {
        "id": "oT0RNK3ysNrh"
      }
    },
    {
      "cell_type": "code",
      "source": [
        "arreglo = np.array((1,2,3))\n",
        "print(arreglo.ndim) #Numero de dimensiones\n",
        "print(arreglo.shape) #Numero de elementos en cada dimension\n",
        "print(arreglo.size) #Numero total de elementos en el arreglo"
      ],
      "metadata": {
        "colab": {
          "base_uri": "https://localhost:8080/"
        },
        "id": "yjXODy5WskgJ",
        "outputId": "bb61f267-1ffd-4eca-db88-17d284e8aed7"
      },
      "execution_count": null,
      "outputs": [
        {
          "output_type": "stream",
          "name": "stdout",
          "text": [
            "1\n",
            "(3,)\n",
            "3\n"
          ]
        }
      ]
    },
    {
      "cell_type": "code",
      "source": [
        "#Arreglo bidimensional\n",
        "arreglo = np.array([[1,2,3],[4,5,6]])\n",
        "print(arreglo.ndim) #Numero de dimensiones\n",
        "print(arreglo.shape) #Numero de elementos en cada dimension\n",
        "print(arreglo.size) #Numero total de elementos en el arreglo"
      ],
      "metadata": {
        "colab": {
          "base_uri": "https://localhost:8080/"
        },
        "outputId": "b795f71a-fde7-416f-bb21-01b4e12f4430",
        "id": "6sp1mkabtKVx"
      },
      "execution_count": null,
      "outputs": [
        {
          "output_type": "stream",
          "name": "stdout",
          "text": [
            "2\n",
            "(2, 3)\n",
            "6\n"
          ]
        }
      ]
    },
    {
      "cell_type": "code",
      "source": [
        "#Arreglo tridimensional\n",
        "arreglo = np.array([[[1, 2], [3, 4]],\n",
        "                    [[5, 6], [7, 8]]])\n",
        "\n",
        "print(arreglo.ndim) #Numero de dimensiones\n",
        "print(arreglo.shape) #Numero de elementos en cada dimension\n",
        "print(arreglo.size) #Numero total de elementos en el arreglo"
      ],
      "metadata": {
        "colab": {
          "base_uri": "https://localhost:8080/"
        },
        "id": "Yn2XbgeUtjtQ",
        "outputId": "7cab637f-5967-42a6-9590-89d51eb696d3"
      },
      "execution_count": null,
      "outputs": [
        {
          "output_type": "stream",
          "name": "stdout",
          "text": [
            "3\n",
            "(2, 2, 2)\n",
            "8\n"
          ]
        }
      ]
    },
    {
      "cell_type": "code",
      "source": [
        "np.array(((1,2),(3,4)))"
      ],
      "metadata": {
        "colab": {
          "base_uri": "https://localhost:8080/"
        },
        "id": "HJ6g2I1tuXVB",
        "outputId": "c9f71452-179f-4b0b-a6f0-c3e762a3f7d6"
      },
      "execution_count": null,
      "outputs": [
        {
          "output_type": "execute_result",
          "data": {
            "text/plain": [
              "array([[1, 2],\n",
              "       [3, 4]])"
            ]
          },
          "metadata": {},
          "execution_count": 25
        }
      ]
    },
    {
      "cell_type": "code",
      "source": [
        "np.array(((1,2),(3,4))).dtype"
      ],
      "metadata": {
        "colab": {
          "base_uri": "https://localhost:8080/"
        },
        "id": "qyl5HhmwuegA",
        "outputId": "e652bbf4-a079-4c51-def5-ded78f21e0ca"
      },
      "execution_count": null,
      "outputs": [
        {
          "output_type": "execute_result",
          "data": {
            "text/plain": [
              "dtype('int64')"
            ]
          },
          "metadata": {},
          "execution_count": 26
        }
      ]
    },
    {
      "cell_type": "code",
      "source": [
        "np.array(((-1, 2), (3, 4)), dtype = np.uint8)\n"
      ],
      "metadata": {
        "colab": {
          "base_uri": "https://localhost:8080/"
        },
        "id": "DAWfoWW5unCC",
        "outputId": "23a159a3-23fc-4ed0-9336-e4a6d20778f8"
      },
      "execution_count": null,
      "outputs": [
        {
          "output_type": "execute_result",
          "data": {
            "text/plain": [
              "array([[255,   2],\n",
              "       [  3,   4]], dtype=uint8)"
            ]
          },
          "metadata": {},
          "execution_count": 29
        }
      ]
    },
    {
      "cell_type": "code",
      "source": [
        "np.array(((-1, 2), (3, 4)), dtype = np.uint64)\n"
      ],
      "metadata": {
        "colab": {
          "base_uri": "https://localhost:8080/"
        },
        "id": "x9y2ouMSu_g5",
        "outputId": "50d894e7-e418-4aab-d497-55e793c279e3"
      },
      "execution_count": null,
      "outputs": [
        {
          "output_type": "execute_result",
          "data": {
            "text/plain": [
              "array([[18446744073709551615,                    2],\n",
              "       [                   3,                    4]], dtype=uint64)"
            ]
          },
          "metadata": {},
          "execution_count": 30
        }
      ]
    },
    {
      "cell_type": "code",
      "source": [
        "#Tipos complejos\n",
        "complejo=np.array([[25.6j, 11.24],\n",
        "                     [-21.890-15702174.43j, 0]])\n",
        "print(complejo)\n",
        "print(complejo.dtype)\n"
      ],
      "metadata": {
        "colab": {
          "base_uri": "https://localhost:8080/"
        },
        "id": "4Y1SmEzhvCQp",
        "outputId": "5534dad1-90d2-42cb-a4e5-6fe64a14234f"
      },
      "execution_count": null,
      "outputs": [
        {
          "output_type": "stream",
          "name": "stdout",
          "text": [
            "[[  0.  +2.56000000e+01j  11.24+0.00000000e+00j]\n",
            " [-21.89-1.57021744e+07j   0.  +0.00000000e+00j]]\n",
            "complex128\n"
          ]
        }
      ]
    },
    {
      "cell_type": "code",
      "source": [
        "np.array(((1,'Hola'),(False,0)))"
      ],
      "metadata": {
        "colab": {
          "base_uri": "https://localhost:8080/"
        },
        "id": "862KbV1BvZy4",
        "outputId": "3b78073b-c653-47d9-917d-4f49e1967be1"
      },
      "execution_count": null,
      "outputs": [
        {
          "output_type": "execute_result",
          "data": {
            "text/plain": [
              "array([['1', 'Hola'],\n",
              "       ['False', '0']], dtype='<U21')"
            ]
          },
          "metadata": {},
          "execution_count": 32
        }
      ]
    },
    {
      "cell_type": "code",
      "source": [
        "#Arreglo Boleano\n",
        "np.array(((1,'Hola'), (False, 0)), dtype = np.bool_)\n"
      ],
      "metadata": {
        "colab": {
          "base_uri": "https://localhost:8080/"
        },
        "id": "3VPH-HaQvoFg",
        "outputId": "edc07b9d-9a93-40ee-dde7-aad757cfa02a"
      },
      "execution_count": null,
      "outputs": [
        {
          "output_type": "execute_result",
          "data": {
            "text/plain": [
              "array([[ True,  True],\n",
              "       [False, False]])"
            ]
          },
          "metadata": {},
          "execution_count": 33
        }
      ]
    },
    {
      "cell_type": "code",
      "source": [
        "#Tipo cadena\n",
        "np.array((['Hugo', 'Paco'],['Luis Ignacio', 'Donald']))\n"
      ],
      "metadata": {
        "colab": {
          "base_uri": "https://localhost:8080/"
        },
        "id": "8D9qYS5Lv_Yv",
        "outputId": "773359cf-7fa3-43a6-84c4-a1f7858b8c9d"
      },
      "execution_count": null,
      "outputs": [
        {
          "output_type": "execute_result",
          "data": {
            "text/plain": [
              "array([['Hugo', 'Paco'],\n",
              "       ['Luis Ignacio', 'Donald']], dtype='<U12')"
            ]
          },
          "metadata": {},
          "execution_count": 34
        }
      ]
    },
    {
      "cell_type": "code",
      "source": [
        "#Trabajo con fechas\n",
        "from datetime import datetime\n",
        "fechas = np.array([[np.datetime64(\"2019-08-25T23:59:45.231\"), \n",
        "                   np.datetime64(\"2020-07-23\")],\n",
        "                   [np.datetime64(datetime(year=2018, month=12, day=22)),\n",
        "                   np.datetime64(\"2019-03-01T11:25\")]])\n",
        "fechas"
      ],
      "metadata": {
        "colab": {
          "base_uri": "https://localhost:8080/"
        },
        "id": "FF8FmthTwfnn",
        "outputId": "e414bba4-ac7a-4818-de77-4cf2c8a93632"
      },
      "execution_count": null,
      "outputs": [
        {
          "output_type": "execute_result",
          "data": {
            "text/plain": [
              "array([['2019-08-25T23:59:45.231000', '2020-07-23T00:00:00.000000'],\n",
              "       ['2018-12-22T00:00:00.000000', '2019-03-01T11:25:00.000000']],\n",
              "      dtype='datetime64[us]')"
            ]
          },
          "metadata": {},
          "execution_count": 35
        }
      ]
    },
    {
      "cell_type": "code",
      "source": [
        "#deltatime los segundos en un lapso de tiempo\n",
        "\n",
        "np.datetime64(datetime.now()) - fechas"
      ],
      "metadata": {
        "colab": {
          "base_uri": "https://localhost:8080/"
        },
        "id": "jSUrK2bBxNFn",
        "outputId": "a9ec400c-a638-4dc4-95fa-a2cbe8927ee6"
      },
      "execution_count": null,
      "outputs": [
        {
          "output_type": "execute_result",
          "data": {
            "text/plain": [
              "array([[ 89734406463344,  61049591694344],\n",
              "       [111075191694344, 105072491694344]], dtype='timedelta64[us]')"
            ]
          },
          "metadata": {},
          "execution_count": 36
        }
      ]
    },
    {
      "cell_type": "code",
      "source": [
        "a1 = np.array([[[1, 2], [3, 4]],\n",
        "                    [[5, 6], [7, 8]]])\n",
        "\n",
        "a2 = np.array([[[10, 20], [30, 40]],\n",
        "                    [[50, 60], [70, 80]]])\n",
        "\n",
        "print(a1 + a2)\n",
        "print(a1 * 101)\n"
      ],
      "metadata": {
        "colab": {
          "base_uri": "https://localhost:8080/"
        },
        "id": "dY0aiyaOyMwQ",
        "outputId": "febb21f1-4ef4-4d24-98da-3cb394b56533"
      },
      "execution_count": null,
      "outputs": [
        {
          "output_type": "stream",
          "name": "stdout",
          "text": [
            "[[[11 22]\n",
            "  [33 44]]\n",
            "\n",
            " [[55 66]\n",
            "  [77 88]]]\n",
            "[[[101 202]\n",
            "  [303 404]]\n",
            "\n",
            " [[505 606]\n",
            "  [707 808]]]\n"
          ]
        }
      ]
    },
    {
      "cell_type": "code",
      "source": [
        "# ndarray regresa un arreglo con valores no definidos cercanos a 0\n",
        "np.ndarray((2,2),dtype=float)"
      ],
      "metadata": {
        "colab": {
          "base_uri": "https://localhost:8080/"
        },
        "id": "S4KZ80-PzAcx",
        "outputId": "4af81a28-fe50-4f1c-a3b0-164e5a7278cd"
      },
      "execution_count": null,
      "outputs": [
        {
          "output_type": "execute_result",
          "data": {
            "text/plain": [
              "array([[4.43346875e-310, 3.01625059e-310],\n",
              "       [5.48784363e-310, 5.19127085e-310]])"
            ]
          },
          "metadata": {},
          "execution_count": 38
        }
      ]
    },
    {
      "cell_type": "code",
      "source": [
        "np.ndarray((2,2), dtype='>U10')"
      ],
      "metadata": {
        "colab": {
          "base_uri": "https://localhost:8080/"
        },
        "id": "ZfO7as5izmOH",
        "outputId": "b1b81820-b871-4473-d69e-ccc5e666ac07"
      },
      "execution_count": null,
      "outputs": [
        {
          "output_type": "execute_result",
          "data": {
            "text/plain": [
              "array([['', ''],\n",
              "       ['', '']], dtype='>U10')"
            ]
          },
          "metadata": {},
          "execution_count": 39
        }
      ]
    },
    {
      "cell_type": "code",
      "source": [
        "#Ones genera un arrelgo exclusivamente con el numero 1 en cada elemento"
      ],
      "metadata": {
        "id": "LSTpktm1zukg"
      },
      "execution_count": null,
      "outputs": []
    },
    {
      "cell_type": "code",
      "source": [
        "np.ones((2,5,3,6))"
      ],
      "metadata": {
        "colab": {
          "base_uri": "https://localhost:8080/"
        },
        "id": "-3xRpgVXz1GG",
        "outputId": "27babd00-8f31-4436-d07a-dcf8dc832995"
      },
      "execution_count": null,
      "outputs": [
        {
          "output_type": "execute_result",
          "data": {
            "text/plain": [
              "array([[[[1., 1., 1., 1., 1., 1.],\n",
              "         [1., 1., 1., 1., 1., 1.],\n",
              "         [1., 1., 1., 1., 1., 1.]],\n",
              "\n",
              "        [[1., 1., 1., 1., 1., 1.],\n",
              "         [1., 1., 1., 1., 1., 1.],\n",
              "         [1., 1., 1., 1., 1., 1.]],\n",
              "\n",
              "        [[1., 1., 1., 1., 1., 1.],\n",
              "         [1., 1., 1., 1., 1., 1.],\n",
              "         [1., 1., 1., 1., 1., 1.]],\n",
              "\n",
              "        [[1., 1., 1., 1., 1., 1.],\n",
              "         [1., 1., 1., 1., 1., 1.],\n",
              "         [1., 1., 1., 1., 1., 1.]],\n",
              "\n",
              "        [[1., 1., 1., 1., 1., 1.],\n",
              "         [1., 1., 1., 1., 1., 1.],\n",
              "         [1., 1., 1., 1., 1., 1.]]],\n",
              "\n",
              "\n",
              "       [[[1., 1., 1., 1., 1., 1.],\n",
              "         [1., 1., 1., 1., 1., 1.],\n",
              "         [1., 1., 1., 1., 1., 1.]],\n",
              "\n",
              "        [[1., 1., 1., 1., 1., 1.],\n",
              "         [1., 1., 1., 1., 1., 1.],\n",
              "         [1., 1., 1., 1., 1., 1.]],\n",
              "\n",
              "        [[1., 1., 1., 1., 1., 1.],\n",
              "         [1., 1., 1., 1., 1., 1.],\n",
              "         [1., 1., 1., 1., 1., 1.]],\n",
              "\n",
              "        [[1., 1., 1., 1., 1., 1.],\n",
              "         [1., 1., 1., 1., 1., 1.],\n",
              "         [1., 1., 1., 1., 1., 1.]],\n",
              "\n",
              "        [[1., 1., 1., 1., 1., 1.],\n",
              "         [1., 1., 1., 1., 1., 1.],\n",
              "         [1., 1., 1., 1., 1., 1.]]]])"
            ]
          },
          "metadata": {},
          "execution_count": 41
        }
      ]
    },
    {
      "cell_type": "code",
      "source": [
        "# empty genera arreglos vacios\n",
        "np.empty((2,2,2), dtype=np.int8)\n"
      ],
      "metadata": {
        "colab": {
          "base_uri": "https://localhost:8080/"
        },
        "id": "0KlvzX6U087n",
        "outputId": "671aae56-9032-4066-e643-64e0a9e2d84e"
      },
      "execution_count": null,
      "outputs": [
        {
          "output_type": "execute_result",
          "data": {
            "text/plain": [
              "array([[[  0,   0],\n",
              "        [  0,   0]],\n",
              "\n",
              "       [[  0,   0],\n",
              "        [-16,  63]]], dtype=int8)"
            ]
          },
          "metadata": {},
          "execution_count": 42
        }
      ]
    },
    {
      "cell_type": "code",
      "source": [
        "# arange genera un arreglo undimensional con valores enteros en un rango\n",
        "np.arange(6,21)"
      ],
      "metadata": {
        "colab": {
          "base_uri": "https://localhost:8080/"
        },
        "id": "UzDwFC1N2Xf9",
        "outputId": "ba9c49d4-9a19-4048-eb95-66ba7f9e5721"
      },
      "execution_count": null,
      "outputs": [
        {
          "output_type": "execute_result",
          "data": {
            "text/plain": [
              "array([ 6,  7,  8,  9, 10, 11, 12, 13, 14, 15, 16, 17, 18, 19, 20])"
            ]
          },
          "metadata": {},
          "execution_count": 43
        }
      ]
    },
    {
      "cell_type": "code",
      "source": [
        "#linspace genera un arreglo undimensional con una secuencia lineal de valores\n",
        "np.linspace(0,8)"
      ],
      "metadata": {
        "colab": {
          "base_uri": "https://localhost:8080/"
        },
        "id": "E1P1Ns--2ncv",
        "outputId": "b7f15f3d-d47b-451e-935a-9310ed18c3c5"
      },
      "execution_count": null,
      "outputs": [
        {
          "output_type": "execute_result",
          "data": {
            "text/plain": [
              "array([0.        , 0.16326531, 0.32653061, 0.48979592, 0.65306122,\n",
              "       0.81632653, 0.97959184, 1.14285714, 1.30612245, 1.46938776,\n",
              "       1.63265306, 1.79591837, 1.95918367, 2.12244898, 2.28571429,\n",
              "       2.44897959, 2.6122449 , 2.7755102 , 2.93877551, 3.10204082,\n",
              "       3.26530612, 3.42857143, 3.59183673, 3.75510204, 3.91836735,\n",
              "       4.08163265, 4.24489796, 4.40816327, 4.57142857, 4.73469388,\n",
              "       4.89795918, 5.06122449, 5.2244898 , 5.3877551 , 5.55102041,\n",
              "       5.71428571, 5.87755102, 6.04081633, 6.20408163, 6.36734694,\n",
              "       6.53061224, 6.69387755, 6.85714286, 7.02040816, 7.18367347,\n",
              "       7.34693878, 7.51020408, 7.67346939, 7.83673469, 8.        ])"
            ]
          },
          "metadata": {},
          "execution_count": 44
        }
      ]
    },
    {
      "cell_type": "code",
      "source": [
        "#Escribir en un archivo txt\n",
        "arreglo = np.linspace(0,8, num=100)\n",
        "np.savetxt('arreglo.txt',arreglo)"
      ],
      "metadata": {
        "id": "jemH3Urz23od"
      },
      "execution_count": null,
      "outputs": []
    },
    {
      "cell_type": "code",
      "source": [
        "#Leer archivo\n",
        "arreglo2 = np.loadtxt('arreglo.txt')\n",
        "arreglo2"
      ],
      "metadata": {
        "colab": {
          "base_uri": "https://localhost:8080/"
        },
        "id": "iiITTu_e347F",
        "outputId": "c4b7cefc-ea02-4477-fc70-131de0f48f9d"
      },
      "execution_count": null,
      "outputs": [
        {
          "output_type": "execute_result",
          "data": {
            "text/plain": [
              "array([0.        , 0.08080808, 0.16161616, 0.24242424, 0.32323232,\n",
              "       0.4040404 , 0.48484848, 0.56565657, 0.64646465, 0.72727273,\n",
              "       0.80808081, 0.88888889, 0.96969697, 1.05050505, 1.13131313,\n",
              "       1.21212121, 1.29292929, 1.37373737, 1.45454545, 1.53535354,\n",
              "       1.61616162, 1.6969697 , 1.77777778, 1.85858586, 1.93939394,\n",
              "       2.02020202, 2.1010101 , 2.18181818, 2.26262626, 2.34343434,\n",
              "       2.42424242, 2.50505051, 2.58585859, 2.66666667, 2.74747475,\n",
              "       2.82828283, 2.90909091, 2.98989899, 3.07070707, 3.15151515,\n",
              "       3.23232323, 3.31313131, 3.39393939, 3.47474747, 3.55555556,\n",
              "       3.63636364, 3.71717172, 3.7979798 , 3.87878788, 3.95959596,\n",
              "       4.04040404, 4.12121212, 4.2020202 , 4.28282828, 4.36363636,\n",
              "       4.44444444, 4.52525253, 4.60606061, 4.68686869, 4.76767677,\n",
              "       4.84848485, 4.92929293, 5.01010101, 5.09090909, 5.17171717,\n",
              "       5.25252525, 5.33333333, 5.41414141, 5.49494949, 5.57575758,\n",
              "       5.65656566, 5.73737374, 5.81818182, 5.8989899 , 5.97979798,\n",
              "       6.06060606, 6.14141414, 6.22222222, 6.3030303 , 6.38383838,\n",
              "       6.46464646, 6.54545455, 6.62626263, 6.70707071, 6.78787879,\n",
              "       6.86868687, 6.94949495, 7.03030303, 7.11111111, 7.19191919,\n",
              "       7.27272727, 7.35353535, 7.43434343, 7.51515152, 7.5959596 ,\n",
              "       7.67676768, 7.75757576, 7.83838384, 7.91919192, 8.        ])"
            ]
          },
          "metadata": {},
          "execution_count": 46
        }
      ]
    },
    {
      "cell_type": "code",
      "source": [
        "#Listar contenido de un directorio\n",
        "%ls"
      ],
      "metadata": {
        "id": "m6NmJi5O47z3",
        "colab": {
          "base_uri": "https://localhost:8080/"
        },
        "outputId": "7def1704-4fc8-4679-b850-8519adaf1c76"
      },
      "execution_count": null,
      "outputs": [
        {
          "output_type": "stream",
          "name": "stdout",
          "text": [
            "arreglo.txt  \u001b[0m\u001b[01;34msample_data\u001b[0m/\n"
          ]
        }
      ]
    },
    {
      "cell_type": "code",
      "source": [
        "#Ver el contenido de un archivo\n",
        "%cat arreglos.npz"
      ],
      "metadata": {
        "id": "-hbUEcS35HXl"
      },
      "execution_count": null,
      "outputs": []
    },
    {
      "cell_type": "code",
      "source": [
        "#Guardar mas de un arreglo en un solo archivo\n",
        "np.savez('arreglos',a1,a2)"
      ],
      "metadata": {
        "id": "l-3y3alT6T6u"
      },
      "execution_count": null,
      "outputs": []
    },
    {
      "cell_type": "code",
      "source": [
        "#Leer varios arreglos desde un archivo\n",
        "cargados =np.load('arreglos.npz')\n",
        "cargados"
      ],
      "metadata": {
        "colab": {
          "base_uri": "https://localhost:8080/"
        },
        "id": "qq7lwd446yCO",
        "outputId": "9ffbb853-8851-4a1b-81ac-328941c768ff"
      },
      "execution_count": null,
      "outputs": [
        {
          "output_type": "execute_result",
          "data": {
            "text/plain": [
              "<numpy.lib.npyio.NpzFile at 0x7fd54af3fc10>"
            ]
          },
          "metadata": {},
          "execution_count": 50
        }
      ]
    },
    {
      "cell_type": "code",
      "source": [
        "#Acceder a un arreglo cargado\n",
        "cargados['arr_0']"
      ],
      "metadata": {
        "colab": {
          "base_uri": "https://localhost:8080/"
        },
        "id": "uZBqwwqH7Im8",
        "outputId": "ef0ab659-5043-492f-be4d-712bab332307"
      },
      "execution_count": null,
      "outputs": [
        {
          "output_type": "execute_result",
          "data": {
            "text/plain": [
              "array([[[1, 2],\n",
              "        [3, 4]],\n",
              "\n",
              "       [[5, 6],\n",
              "        [7, 8]]])"
            ]
          },
          "metadata": {},
          "execution_count": 51
        }
      ]
    },
    {
      "cell_type": "code",
      "source": [
        "with cargados as arr:\n",
        "  for i in arr:\n",
        "    print(i,arr[i])"
      ],
      "metadata": {
        "colab": {
          "base_uri": "https://localhost:8080/"
        },
        "id": "Gz2d1rwc73WG",
        "outputId": "97f29eac-196f-4368-8a44-f3b6883fbdd4"
      },
      "execution_count": null,
      "outputs": [
        {
          "output_type": "stream",
          "name": "stdout",
          "text": [
            "arr_0 [[[1 2]\n",
            "  [3 4]]\n",
            "\n",
            " [[5 6]\n",
            "  [7 8]]]\n",
            "arr_1 [[[10 20]\n",
            "  [30 40]]\n",
            "\n",
            " [[50 60]\n",
            "  [70 80]]]\n"
          ]
        }
      ]
    },
    {
      "cell_type": "markdown",
      "source": [
        "# Operaciones básicas con arreglos.\n",
        "\n",
        "La siguiente tabla ejemplifica la conformación de las Equipos en una semana dada.\n",
        "\n",
        "||Equipo 1| Equipo 2|\n",
        "|:--:|:---:|:---:|\n",
        "|**Lunes**|Lilia, Antonio, Ricardo|Alonso, Jorge, Salvador|\n",
        "|**Martes**|Mariana, Julian, Ricardo|Arturo, Ramy, Esteban|\n",
        "|**Miércoles**|Arturo, Ricardo, Lucio|Jorge, Marco, Lilia|\n",
        "|**Jueves**|Alonso, Julian, Salvador|Ricardo, Jorge, Esteban|\n",
        "|**Viernes**|Lucio, Ramy, Joaquín|Ricardo, Marco, Lilia|\n"
      ],
      "metadata": {
        "id": "vdvK6YDM8eJb"
      }
    },
    {
      "cell_type": "code",
      "source": [
        "equipos = np.array([[['Lilia', 'Antonio', 'Ricardo'], ['Alonso', 'Jorge', 'Salvador']],\n",
        "                    [['Mariana', 'Julian', 'Ricardo'], ['Arturo', 'Ramy', 'Esteban']],\n",
        "                    [['Arturo', 'Ricardo', 'Lucio'], ['Jorge', 'Marco', 'Lilia']],\n",
        "                    [['Alonso', 'Julian', 'Salvador'], ['Ricardo', 'Jorge', 'Esteban']],\n",
        "                    [['Lucio', 'Ramy', 'Joaquín'], ['Ricardo', 'Marco', 'Lilia']]])\n"
      ],
      "metadata": {
        "id": "oDRcANcS8haD"
      },
      "execution_count": null,
      "outputs": []
    },
    {
      "cell_type": "code",
      "source": [
        "equipos"
      ],
      "metadata": {
        "colab": {
          "base_uri": "https://localhost:8080/"
        },
        "id": "rUfyXUo18p5r",
        "outputId": "d8fb2e53-5e3f-4015-b735-b658c00d9420"
      },
      "execution_count": null,
      "outputs": [
        {
          "output_type": "execute_result",
          "data": {
            "text/plain": [
              "array([[['Lilia', 'Antonio', 'Ricardo'],\n",
              "        ['Alonso', 'Jorge', 'Salvador']],\n",
              "\n",
              "       [['Mariana', 'Julian', 'Ricardo'],\n",
              "        ['Arturo', 'Ramy', 'Esteban']],\n",
              "\n",
              "       [['Arturo', 'Ricardo', 'Lucio'],\n",
              "        ['Jorge', 'Marco', 'Lilia']],\n",
              "\n",
              "       [['Alonso', 'Julian', 'Salvador'],\n",
              "        ['Ricardo', 'Jorge', 'Esteban']],\n",
              "\n",
              "       [['Lucio', 'Ramy', 'Joaquín'],\n",
              "        ['Ricardo', 'Marco', 'Lilia']]], dtype='<U8')"
            ]
          },
          "metadata": {},
          "execution_count": 54
        }
      ]
    },
    {
      "cell_type": "code",
      "source": [
        "print(equipos.ndim)\n",
        "print(equipos.shape)\n",
        "print(equipos.size)"
      ],
      "metadata": {
        "colab": {
          "base_uri": "https://localhost:8080/"
        },
        "id": "AZME33tu9T-j",
        "outputId": "3e88ddbe-99c1-42e4-da3b-09b85d0cdc58"
      },
      "execution_count": null,
      "outputs": [
        {
          "output_type": "stream",
          "name": "stdout",
          "text": [
            "3\n",
            "(5, 2, 3)\n",
            "30\n"
          ]
        }
      ]
    },
    {
      "cell_type": "code",
      "source": [
        "#Slices de arreglos\n",
        "#Listar los dias martes y miercoles de la semana\n",
        "equipos[1:3]\n"
      ],
      "metadata": {
        "colab": {
          "base_uri": "https://localhost:8080/"
        },
        "id": "z3d7kw_O95lV",
        "outputId": "6008b84b-8b17-408b-e3f2-c83f671986e5"
      },
      "execution_count": null,
      "outputs": [
        {
          "output_type": "execute_result",
          "data": {
            "text/plain": [
              "array([[['Mariana', 'Julian', 'Ricardo'],\n",
              "        ['Arturo', 'Ramy', 'Esteban']],\n",
              "\n",
              "       [['Arturo', 'Ricardo', 'Lucio'],\n",
              "        ['Jorge', 'Marco', 'Lilia']]], dtype='<U8')"
            ]
          },
          "metadata": {},
          "execution_count": 56
        }
      ]
    },
    {
      "cell_type": "code",
      "source": [
        "equipos[1:3].shape"
      ],
      "metadata": {
        "colab": {
          "base_uri": "https://localhost:8080/"
        },
        "id": "wS2ckXcq-K3b",
        "outputId": "730883a1-108b-4323-d3d8-501793b5f060"
      },
      "execution_count": null,
      "outputs": [
        {
          "output_type": "execute_result",
          "data": {
            "text/plain": [
              "(2, 2, 3)"
            ]
          },
          "metadata": {},
          "execution_count": 57
        }
      ]
    },
    {
      "cell_type": "code",
      "source": [
        "#Ver el equipo 2 de los dias martes\n",
        "equipos[1:3,1]"
      ],
      "metadata": {
        "colab": {
          "base_uri": "https://localhost:8080/"
        },
        "id": "nm3ybxXe-YQk",
        "outputId": "4fde1763-a50b-467b-aa83-e17da11b5279"
      },
      "execution_count": null,
      "outputs": [
        {
          "output_type": "execute_result",
          "data": {
            "text/plain": [
              "array([['Arturo', 'Ramy', 'Esteban'],\n",
              "       ['Jorge', 'Marco', 'Lilia']], dtype='<U8')"
            ]
          },
          "metadata": {},
          "execution_count": 58
        }
      ]
    },
    {
      "cell_type": "code",
      "source": [
        "equipos[1:3,1].shape"
      ],
      "metadata": {
        "colab": {
          "base_uri": "https://localhost:8080/"
        },
        "id": "Hf-Yz6Pl-xuF",
        "outputId": "6be98ac7-eda6-4925-b69a-3736aadc63ba"
      },
      "execution_count": null,
      "outputs": [
        {
          "output_type": "execute_result",
          "data": {
            "text/plain": [
              "(2, 3)"
            ]
          },
          "metadata": {},
          "execution_count": 59
        }
      ]
    },
    {
      "cell_type": "code",
      "source": [
        "#Ver los dos primeros integrantes del equipo 2, de los dias martes y miercoles\n",
        "equipos[2:4,1,0:2]"
      ],
      "metadata": {
        "colab": {
          "base_uri": "https://localhost:8080/"
        },
        "id": "V0171lVm-0yE",
        "outputId": "910bc25c-1392-4222-baf9-7c43fbe4d515"
      },
      "execution_count": null,
      "outputs": [
        {
          "output_type": "execute_result",
          "data": {
            "text/plain": [
              "array([['Jorge', 'Marco'],\n",
              "       ['Ricardo', 'Jorge']], dtype='<U8')"
            ]
          },
          "metadata": {},
          "execution_count": 60
        }
      ]
    },
    {
      "cell_type": "code",
      "source": [
        "equipos[2:4,1,0:2].shape"
      ],
      "metadata": {
        "colab": {
          "base_uri": "https://localhost:8080/"
        },
        "id": "NrexJ_dU_IKC",
        "outputId": "833dc45f-0ca9-48d8-c59b-4df715fc291c"
      },
      "execution_count": null,
      "outputs": [
        {
          "output_type": "execute_result",
          "data": {
            "text/plain": [
              "(2, 2)"
            ]
          },
          "metadata": {},
          "execution_count": 61
        }
      ]
    },
    {
      "cell_type": "code",
      "source": [
        "#Ver el tercer integrante del equipo 1 en todos los dias\n",
        "equipos[:,0,2:3,]"
      ],
      "metadata": {
        "colab": {
          "base_uri": "https://localhost:8080/"
        },
        "id": "Jw4NFcxY_Ow0",
        "outputId": "82af6f1a-3db7-4c96-a030-20a43c6120c4"
      },
      "execution_count": null,
      "outputs": [
        {
          "output_type": "execute_result",
          "data": {
            "text/plain": [
              "array([['Ricardo'],\n",
              "       ['Ricardo'],\n",
              "       ['Lucio'],\n",
              "       ['Salvador'],\n",
              "       ['Joaquín']], dtype='<U8')"
            ]
          },
          "metadata": {},
          "execution_count": 62
        }
      ]
    },
    {
      "cell_type": "code",
      "source": [
        "equipos[4,1,2]"
      ],
      "metadata": {
        "colab": {
          "base_uri": "https://localhost:8080/",
          "height": 36
        },
        "id": "XlDetJDH__XO",
        "outputId": "d1533584-6cfa-413f-d0c3-b8eaf3686214"
      },
      "execution_count": null,
      "outputs": [
        {
          "output_type": "execute_result",
          "data": {
            "text/plain": [
              "'Lilia'"
            ],
            "application/vnd.google.colaboratory.intrinsic+json": {
              "type": "string"
            }
          },
          "metadata": {},
          "execution_count": 63
        }
      ]
    },
    {
      "cell_type": "code",
      "source": [
        "remplazos = np.array([['Paulina', 'Rigo', 'Paul'], \n",
        "               ['Kenia', 'Miguel', 'Carlos']])\n",
        "remplazos"
      ],
      "metadata": {
        "colab": {
          "base_uri": "https://localhost:8080/"
        },
        "id": "bIgLGnzjCYrb",
        "outputId": "60f1445d-7a9b-447c-c11b-72efe0ab71e6"
      },
      "execution_count": null,
      "outputs": [
        {
          "output_type": "execute_result",
          "data": {
            "text/plain": [
              "array([['Paulina', 'Rigo', 'Paul'],\n",
              "       ['Kenia', 'Miguel', 'Carlos']], dtype='<U7')"
            ]
          },
          "metadata": {},
          "execution_count": 64
        }
      ]
    },
    {
      "cell_type": "code",
      "source": [
        "#Cambiar elementos de un arrelgo\n",
        "equipos[4]=remplazos\n",
        "equipos"
      ],
      "metadata": {
        "colab": {
          "base_uri": "https://localhost:8080/"
        },
        "id": "tmU8IioSCtgl",
        "outputId": "afe9dffb-7efc-4fbc-f397-a1704b55616e"
      },
      "execution_count": null,
      "outputs": [
        {
          "output_type": "execute_result",
          "data": {
            "text/plain": [
              "array([[['Lilia', 'Antonio', 'Ricardo'],\n",
              "        ['Alonso', 'Jorge', 'Salvador']],\n",
              "\n",
              "       [['Mariana', 'Julian', 'Ricardo'],\n",
              "        ['Arturo', 'Ramy', 'Esteban']],\n",
              "\n",
              "       [['Arturo', 'Ricardo', 'Lucio'],\n",
              "        ['Jorge', 'Marco', 'Lilia']],\n",
              "\n",
              "       [['Alonso', 'Julian', 'Salvador'],\n",
              "        ['Ricardo', 'Jorge', 'Esteban']],\n",
              "\n",
              "       [['Paulina', 'Rigo', 'Paul'],\n",
              "        ['Kenia', 'Miguel', 'Carlos']]], dtype='<U8')"
            ]
          },
          "metadata": {},
          "execution_count": 65
        }
      ]
    },
    {
      "cell_type": "code",
      "source": [
        "#Cambiar dos elementos de un arreglo\n",
        "equipos[2,0,0:2] = ['Julio','Ernesto']\n",
        "equipos"
      ],
      "metadata": {
        "colab": {
          "base_uri": "https://localhost:8080/"
        },
        "id": "bTfUuB6YylSM",
        "outputId": "72038c1b-818f-42ed-e1d2-e8e2495dd507"
      },
      "execution_count": null,
      "outputs": [
        {
          "output_type": "execute_result",
          "data": {
            "text/plain": [
              "array([[['Lilia', 'Antonio', 'Ricardo'],\n",
              "        ['Alonso', 'Jorge', 'Salvador']],\n",
              "\n",
              "       [['Mariana', 'Julian', 'Ricardo'],\n",
              "        ['Arturo', 'Ramy', 'Esteban']],\n",
              "\n",
              "       [['Julio', 'Ernesto', 'Lucio'],\n",
              "        ['Jorge', 'Marco', 'Lilia']],\n",
              "\n",
              "       [['Alonso', 'Julian', 'Salvador'],\n",
              "        ['Ricardo', 'Jorge', 'Esteban']],\n",
              "\n",
              "       [['Paulina', 'Rigo', 'Paul'],\n",
              "        ['Kenia', 'Miguel', 'Carlos']]], dtype='<U8')"
            ]
          },
          "metadata": {},
          "execution_count": 66
        }
      ]
    },
    {
      "cell_type": "code",
      "source": [
        "#Cambiar un solo elemnto\n",
        "equipos[3,1,2] = 'Esmeralda'\n",
        "equipos"
      ],
      "metadata": {
        "colab": {
          "base_uri": "https://localhost:8080/"
        },
        "id": "yWxFalGDzKcO",
        "outputId": "28fb3ea7-ddbb-4514-ba4e-1c33d668cd36"
      },
      "execution_count": null,
      "outputs": [
        {
          "output_type": "execute_result",
          "data": {
            "text/plain": [
              "array([[['Lilia', 'Antonio', 'Ricardo'],\n",
              "        ['Alonso', 'Jorge', 'Salvador']],\n",
              "\n",
              "       [['Mariana', 'Julian', 'Ricardo'],\n",
              "        ['Arturo', 'Ramy', 'Esteban']],\n",
              "\n",
              "       [['Julio', 'Ernesto', 'Lucio'],\n",
              "        ['Jorge', 'Marco', 'Lilia']],\n",
              "\n",
              "       [['Alonso', 'Julian', 'Salvador'],\n",
              "        ['Ricardo', 'Jorge', 'Esmerald']],\n",
              "\n",
              "       [['Paulina', 'Rigo', 'Paul'],\n",
              "        ['Kenia', 'Miguel', 'Carlos']]], dtype='<U8')"
            ]
          },
          "metadata": {},
          "execution_count": 68
        }
      ]
    },
    {
      "cell_type": "code",
      "source": [
        "# Es posible identificar elementos de una dimension usando arreglos como indices\n",
        "idx_1=np.array([2,0,3])\n",
        "print(idx_1)\n",
        "print(equipos[idx_1]) "
      ],
      "metadata": {
        "colab": {
          "base_uri": "https://localhost:8080/"
        },
        "id": "rFu06IQz0NXH",
        "outputId": "63a61df8-e448-479e-ba0b-b67aef1127ef"
      },
      "execution_count": null,
      "outputs": [
        {
          "output_type": "stream",
          "name": "stdout",
          "text": [
            "[2 0 3]\n",
            "[[['Julio' 'Ernesto' 'Lucio']\n",
            "  ['Jorge' 'Marco' 'Lilia']]\n",
            "\n",
            " [['Lilia' 'Antonio' 'Ricardo']\n",
            "  ['Alonso' 'Jorge' 'Salvador']]\n",
            "\n",
            " [['Alonso' 'Julian' 'Salvador']\n",
            "  ['Ricardo' 'Jorge' 'Esmerald']]]\n"
          ]
        }
      ]
    },
    {
      "cell_type": "code",
      "source": [
        "idx_2=np.array([[0,3],[1,4]])\n",
        "print(idx_2)\n",
        "print(equipos[idx_2])\n",
        "print(equipos[idx_2].shape)"
      ],
      "metadata": {
        "colab": {
          "base_uri": "https://localhost:8080/"
        },
        "id": "xtt_ZIr10o_-",
        "outputId": "08264e76-4163-4b1e-ba17-d005bb40677f"
      },
      "execution_count": null,
      "outputs": [
        {
          "output_type": "stream",
          "name": "stdout",
          "text": [
            "[[0 3]\n",
            " [1 4]]\n",
            "[[[['Lilia' 'Antonio' 'Ricardo']\n",
            "   ['Alonso' 'Jorge' 'Salvador']]\n",
            "\n",
            "  [['Alonso' 'Julian' 'Salvador']\n",
            "   ['Ricardo' 'Jorge' 'Esmerald']]]\n",
            "\n",
            "\n",
            " [[['Mariana' 'Julian' 'Ricardo']\n",
            "   ['Arturo' 'Ramy' 'Esteban']]\n",
            "\n",
            "  [['Paulina' 'Rigo' 'Paul']\n",
            "   ['Kenia' 'Miguel' 'Carlos']]]]\n",
            "(2, 2, 2, 3)\n"
          ]
        }
      ]
    },
    {
      "cell_type": "code",
      "source": [
        "# Uso de multiples arreglos como indices\n",
        "idx_x = np.array([0,2]) #Lunes y miercoles\n",
        "idx_y = np.array([0,1]) #Equipo 1 y 2\n",
        "equipos[idx_x,idx_y]"
      ],
      "metadata": {
        "colab": {
          "base_uri": "https://localhost:8080/"
        },
        "id": "wBxWhqqF1GT0",
        "outputId": "add0991d-2e82-4074-f6fd-ead40325003e"
      },
      "execution_count": null,
      "outputs": [
        {
          "output_type": "execute_result",
          "data": {
            "text/plain": [
              "array([['Lilia', 'Antonio', 'Ricardo'],\n",
              "       ['Jorge', 'Marco', 'Lilia']], dtype='<U8')"
            ]
          },
          "metadata": {},
          "execution_count": 75
        }
      ]
    },
    {
      "cell_type": "markdown",
      "source": [
        "**Broadcasting**"
      ],
      "metadata": {
        "id": "ev3x0yGA2VlN"
      }
    },
    {
      "cell_type": "code",
      "source": [
        "# Un mismo valor para todos los elementos del arreglo\n",
        "equipos[4,0] = 'Fabian'\n",
        "equipos"
      ],
      "metadata": {
        "colab": {
          "base_uri": "https://localhost:8080/"
        },
        "id": "o8nEMJlJ2TVE",
        "outputId": "ca18b451-ddbf-49c7-aafc-fd34be9f28cf"
      },
      "execution_count": null,
      "outputs": [
        {
          "output_type": "execute_result",
          "data": {
            "text/plain": [
              "array([[['Lilia', 'Antonio', 'Ricardo'],\n",
              "        ['Alonso', 'Jorge', 'Salvador']],\n",
              "\n",
              "       [['Mariana', 'Julian', 'Ricardo'],\n",
              "        ['Arturo', 'Ramy', 'Esteban']],\n",
              "\n",
              "       [['Julio', 'Ernesto', 'Lucio'],\n",
              "        ['Jorge', 'Marco', 'Lilia']],\n",
              "\n",
              "       [['Alonso', 'Julian', 'Salvador'],\n",
              "        ['Ricardo', 'Jorge', 'Esmerald']],\n",
              "\n",
              "       [['Fabian', 'Fabian', 'Fabian'],\n",
              "        ['Kenia', 'Miguel', 'Carlos']]], dtype='<U8')"
            ]
          },
          "metadata": {},
          "execution_count": 76
        }
      ]
    },
    {
      "cell_type": "code",
      "source": [
        "# Un mismo arreglo para todos los elementos de la dimension \n",
        "equipos[2] = np.array(['Hugo','Paco','Luis'])\n",
        "equipos"
      ],
      "metadata": {
        "colab": {
          "base_uri": "https://localhost:8080/"
        },
        "id": "8jdr_HKw2v07",
        "outputId": "c206c3ce-59b4-49a5-a0c9-475ef30c8aa4"
      },
      "execution_count": null,
      "outputs": [
        {
          "output_type": "execute_result",
          "data": {
            "text/plain": [
              "array([[['Lilia', 'Antonio', 'Ricardo'],\n",
              "        ['Alonso', 'Jorge', 'Salvador']],\n",
              "\n",
              "       [['Mariana', 'Julian', 'Ricardo'],\n",
              "        ['Arturo', 'Ramy', 'Esteban']],\n",
              "\n",
              "       [['Hugo', 'Paco', 'Luis'],\n",
              "        ['Hugo', 'Paco', 'Luis']],\n",
              "\n",
              "       [['Alonso', 'Julian', 'Salvador'],\n",
              "        ['Ricardo', 'Jorge', 'Esmerald']],\n",
              "\n",
              "       [['Fabian', 'Fabian', 'Fabian'],\n",
              "        ['Kenia', 'Miguel', 'Carlos']]], dtype='<U8')"
            ]
          },
          "metadata": {},
          "execution_count": 77
        }
      ]
    }
  ]
}